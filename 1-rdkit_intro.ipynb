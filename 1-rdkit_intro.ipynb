{
 "cells": [
  {
   "cell_type": "markdown",
   "id": "a96ad236",
   "metadata": {},
   "source": [
    "<a href=\"https://colab.research.google.com/github/dhroth/ai4all22/blob/main/1-rdkit_intro.ipynb\" target=\"_parent\"><img src=\"https://colab.research.google.com/assets/colab-badge.svg\" alt=\"Open In Colab\"/></a>"
   ]
  },
  {
   "cell_type": "markdown",
   "id": "2c6281d5",
   "metadata": {},
   "source": [
    "# Playing With RDKit"
   ]
  },
  {
   "cell_type": "code",
   "execution_count": 2,
   "id": "75b711df",
   "metadata": {},
   "outputs": [
    {
     "name": "stdout",
     "output_type": "stream",
     "text": [
      "fatal: destination path 'ai4all22' already exists and is not an empty directory.\n",
      "/home/eecs/drothchild/ai4all/ai4all22/ai4all22/ai4all22\n"
     ]
    }
   ],
   "source": [
    "# For Google CoLab to set everything up\n",
    "! git clone https://github.com/dhroth/ai4all22.git\n",
    "%cd ai4all22/\n",
    "%mkdir data"
   ]
  },
  {
   "cell_type": "code",
   "execution_count": 15,
   "id": "0b212873",
   "metadata": {},
   "outputs": [
    {
     "name": "stdout",
     "output_type": "stream",
     "text": [
      "Requirement already satisfied: matplotlib in /data/drothchild/anaconda3/envs/ai4all22/lib/python3.10/site-packages (3.5.2)\n",
      "Requirement already satisfied: pillow>=6.2.0 in /data/drothchild/anaconda3/envs/ai4all22/lib/python3.10/site-packages (from matplotlib) (9.2.0)\n",
      "Requirement already satisfied: numpy>=1.17 in /data/drothchild/anaconda3/envs/ai4all22/lib/python3.10/site-packages (from matplotlib) (1.23.1)\n",
      "Requirement already satisfied: fonttools>=4.22.0 in /data/drothchild/anaconda3/envs/ai4all22/lib/python3.10/site-packages (from matplotlib) (4.34.4)\n",
      "Requirement already satisfied: cycler>=0.10 in /data/drothchild/anaconda3/envs/ai4all22/lib/python3.10/site-packages (from matplotlib) (0.11.0)\n",
      "Requirement already satisfied: pyparsing>=2.2.1 in /data/drothchild/anaconda3/envs/ai4all22/lib/python3.10/site-packages (from matplotlib) (3.0.9)\n",
      "Requirement already satisfied: python-dateutil>=2.7 in /data/drothchild/anaconda3/envs/ai4all22/lib/python3.10/site-packages (from matplotlib) (2.8.2)\n",
      "Requirement already satisfied: kiwisolver>=1.0.1 in /data/drothchild/anaconda3/envs/ai4all22/lib/python3.10/site-packages (from matplotlib) (1.4.4)\n",
      "Requirement already satisfied: packaging>=20.0 in /data/drothchild/anaconda3/envs/ai4all22/lib/python3.10/site-packages (from matplotlib) (21.3)\n",
      "\u001b[31mERROR: Could not install packages due to an OSError: [Errno 2] No such file or directory: '/data/drothchild/anaconda3/envs/ai4all22/lib/python3.10/site-packages/numpy-1.23.1.dist-info/METADATA'\n",
      "\u001b[0m\u001b[31m\n",
      "\u001b[0mCollecting rdkit\n",
      "  Downloading rdkit-2022.3.4-cp310-cp310-manylinux_2_17_x86_64.manylinux2014_x86_64.whl (22.9 MB)\n",
      "\u001b[2K     \u001b[90m━━━━━━━━━━━━━━━━━━━━━━━━━━━━━━━━━━━━━━━━\u001b[0m \u001b[32m22.9/22.9 MB\u001b[0m \u001b[31m29.5 MB/s\u001b[0m eta \u001b[36m0:00:00\u001b[0m00:01\u001b[0m00:01\u001b[0m\n",
      "\u001b[?25hRequirement already satisfied: Pillow in /data/drothchild/anaconda3/envs/ai4all22/lib/python3.10/site-packages (from rdkit) (9.2.0)\n",
      "Requirement already satisfied: numpy in /data/drothchild/anaconda3/envs/ai4all22/lib/python3.10/site-packages (from rdkit) (1.23.1)\n",
      "\u001b[31mERROR: Could not install packages due to an OSError: [Errno 2] No such file or directory: '/data/drothchild/anaconda3/envs/ai4all22/lib/python3.10/site-packages/numpy-1.23.1.dist-info/METADATA'\n",
      "\u001b[0m\u001b[31m\n",
      "\u001b[0mCollecting torch\n",
      "  Using cached torch-1.12.0-cp310-cp310-manylinux1_x86_64.whl (776.3 MB)\n",
      "Requirement already satisfied: typing-extensions in /data/drothchild/anaconda3/envs/ai4all22/lib/python3.10/site-packages (from torch) (4.3.0)\n",
      "\u001b[33mWARNING: Error parsing requirements for numpy: [Errno 2] No such file or directory: '/data/drothchild/anaconda3/envs/ai4all22/lib/python3.10/site-packages/numpy-1.23.1.dist-info/METADATA'\u001b[0m\u001b[33m\n",
      "\u001b[0mInstalling collected packages: torch\n",
      "Successfully installed torch-1.12.0\n",
      "Looking in links: https://data.dgl.ai/wheels/repo.html\n",
      "Collecting dgl-cu113\n",
      "  Downloading https://data.dgl.ai/wheels/dgl_cu113-0.9.0-cp310-cp310-manylinux1_x86_64.whl (235.1 MB)\n",
      "\u001b[2K     \u001b[90m━━━━━━━━━━━━━━━━━━━━━━━━━━━━━━━━━━━━━━━\u001b[0m \u001b[32m235.1/235.1 MB\u001b[0m \u001b[31m3.5 MB/s\u001b[0m eta \u001b[36m0:00:00\u001b[0m00:01\u001b[0m00:01\u001b[0m\n",
      "\u001b[?25h^C\n",
      "\u001b[31mERROR: Operation cancelled by user\u001b[0m\u001b[31m\n",
      "\u001b[0mCollecting dgllife\n",
      "  Using cached dgllife-0.3.0-py3-none-any.whl (220 kB)\n",
      "Requirement already satisfied: joblib in /data/drothchild/anaconda3/envs/ai4all22/lib/python3.10/site-packages (from dgllife) (1.1.0)\n",
      "Requirement already satisfied: requests>=2.22.0 in /data/drothchild/anaconda3/envs/ai4all22/lib/python3.10/site-packages (from dgllife) (2.28.1)\n",
      "Requirement already satisfied: pandas in /data/drothchild/anaconda3/envs/ai4all22/lib/python3.10/site-packages (from dgllife) (1.4.3)\n",
      "Collecting scikit-learn<1.0,>=0.22.2\n",
      "  Downloading scikit-learn-0.24.2.tar.gz (7.5 MB)\n",
      "\u001b[2K     \u001b[90m━━━━━━━━━━━━━━━━━━━━━━━━━━━━━━━━━━━━━━━━\u001b[0m \u001b[32m7.5/7.5 MB\u001b[0m \u001b[31m37.9 MB/s\u001b[0m eta \u001b[36m0:00:00\u001b[0m00:01\u001b[0m00:01\u001b[0m\n",
      "\u001b[?25h  Installing build dependencies ... \u001b[?25ldone\n",
      "\u001b[?25h  Getting requirements to build wheel ... \u001b[?25ldone\n",
      "\u001b[?25h  Preparing metadata (pyproject.toml) ... \u001b[?25ldone\n",
      "\u001b[?25hCollecting hyperopt\n",
      "  Using cached hyperopt-0.2.7-py2.py3-none-any.whl (1.6 MB)\n",
      "Requirement already satisfied: numpy>=1.14.0 in /data/drothchild/anaconda3/envs/ai4all22/lib/python3.10/site-packages (from dgllife) (1.23.1)\n",
      "Requirement already satisfied: scipy>=1.1.0 in /data/drothchild/anaconda3/envs/ai4all22/lib/python3.10/site-packages (from dgllife) (1.9.0)\n",
      "Collecting networkx>=2.1\n",
      "  Downloading networkx-2.8.5-py3-none-any.whl (2.0 MB)\n",
      "\u001b[2K     \u001b[90m━━━━━━━━━━━━━━━━━━━━━━━━━━━━━━━━━━━━━━━━\u001b[0m \u001b[32m2.0/2.0 MB\u001b[0m \u001b[31m36.9 MB/s\u001b[0m eta \u001b[36m0:00:00\u001b[0m00:01\u001b[0m\n",
      "\u001b[?25hCollecting tqdm\n",
      "  Using cached tqdm-4.64.0-py2.py3-none-any.whl (78 kB)\n",
      "\u001b[31mERROR: Could not install packages due to an OSError: [Errno 2] No such file or directory: '/data/drothchild/anaconda3/envs/ai4all22/lib/python3.10/site-packages/numpy-1.23.1.dist-info/METADATA'\n",
      "\u001b[0m\u001b[31m\n",
      "\u001b[0m"
     ]
    }
   ],
   "source": [
    "! pip install matplotlib\n",
    "! pip install rdkit\n",
    "! pip install torch\n",
    "! pip install dgl-cu113 dglgo -f https://data.dgl.ai/wheels/repo.html\n",
    "! pip install dgllife\n",
    "! pip install pandas"
   ]
  },
  {
   "cell_type": "code",
   "execution_count": 10,
   "id": "89818c6b",
   "metadata": {},
   "outputs": [],
   "source": [
    "# import packages\n",
    "%matplotlib inline\n",
    "from rdkit import Chem\n",
    "from rdkit.Chem.Draw import IPythonConsole\n",
    "from rdkit.Chem import Draw\n",
    "import pandas as pd\n",
    "IPythonConsole.molSize = 300,300"
   ]
  },
  {
   "cell_type": "code",
   "execution_count": 13,
   "id": "cabf7022",
   "metadata": {},
   "outputs": [
    {
     "data": {
      "image/png": "[encoded data removed]",
      "text/plain": [
       "<rdkit.Chem.rdchem.Mol at 0x7f872f63e380>"
      ]
     },
     "execution_count": 13,
     "metadata": {},
     "output_type": "execute_result"
    }
   ],
   "source": [
    "mol = Chem.MolFromSmiles(\"NC1=NC(COC1(C(F)(F)F)C)(C)C=1C=C(C=CC1F)NC(C1=NC=C(C=C1C)C#N)=O\")\n",
    "mol"
   ]
  },
  {
   "cell_type": "markdown",
   "id": "ae47cf05",
   "metadata": {},
   "source": [
    "## Calculate Molecular Properties"
   ]
  },
  {
   "cell_type": "code",
   "execution_count": null,
   "id": "f7973052",
   "metadata": {},
   "outputs": [],
   "source": [
    "# to be a good drug, we want the molecular weight to be < ~500 Daltons\n",
    "def mol_weight(smiles):\n",
    "    # hint: use RDKit.Chem.Descriptors\n",
    "    return 0"
   ]
  },
  {
   "cell_type": "code",
   "execution_count": null,
   "id": "0068d95a",
   "metadata": {},
   "outputs": [],
   "source": [
    "def logp(smiles):\n",
    "    return 0"
   ]
  },
  {
   "cell_type": "code",
   "execution_count": null,
   "id": "19f2db44",
   "metadata": {},
   "outputs": [],
   "source": [
    "def qed(smiles):\n",
    "    return 0"
   ]
  },
  {
   "cell_type": "markdown",
   "id": "4b0259e3",
   "metadata": {},
   "source": [
    "## Examine Dataset"
   ]
  },
  {
   "cell_type": "code",
   "execution_count": null,
   "id": "169bd742",
   "metadata": {},
   "outputs": [],
   "source": [
    "dataset = pd.read_csv(\"bace.csv\")"
   ]
  }
 ],
 "metadata": {
  "kernelspec": {
   "display_name": "Python 3 (ipykernel)",
   "language": "python",
   "name": "python3"
  },
  "language_info": {
   "codemirror_mode": {
    "name": "ipython",
    "version": 3
   },
   "file_extension": ".py",
   "mimetype": "text/x-python",
   "name": "python",
   "nbconvert_exporter": "python",
   "pygments_lexer": "ipython3",
   "version": "3.10.5"
  }
 },
 "nbformat": 4,
 "nbformat_minor": 5
}
